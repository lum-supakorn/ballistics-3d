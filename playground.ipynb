{
 "cells": [
  {
   "cell_type": "code",
   "execution_count": 1,
   "metadata": {},
   "outputs": [],
   "source": [
    "from ballistic import Ballistic3D"
   ]
  },
  {
   "cell_type": "code",
   "execution_count": 4,
   "metadata": {},
   "outputs": [
    {
     "data": {
      "text/plain": [
       "{'p': array([0.        , 0.        , 0.00011139]),\n",
       " 'v': array([0.        , 0.        , 3.28424709]),\n",
       " 'tof': 0.33490000000000003,\n",
       " 'XY_dist': 0.0}"
      ]
     },
     "execution_count": 4,
     "metadata": {},
     "output_type": "execute_result"
    }
   ],
   "source": [
    "problem_nodrag = Ballistic3D({\n",
    "    \"CD\": 0,\n",
    "    \"A\": 0.007854,\n",
    "    \"m\": 0.022,\n",
    "    \"rho\": 1.225,\n",
    "})\n",
    "\n",
    "p = [0, 0, -0.55]\n",
    "v = [0, 0, 0]\n",
    "w = [0, 0, 0]\n",
    "\n",
    "problem_nodrag.calculate_trajectory(p, v, w)"
   ]
  },
  {
   "cell_type": "code",
   "execution_count": 5,
   "metadata": {},
   "outputs": [
    {
     "data": {
      "text/plain": [
       "{'p': array([0.        , 0.        , 0.00021938]),\n",
       " 'v': array([0.        , 0.        , 3.07536266]),\n",
       " 'tof': 0.3425,\n",
       " 'XY_dist': 0.0}"
      ]
     },
     "execution_count": 5,
     "metadata": {},
     "output_type": "execute_result"
    }
   ],
   "source": [
    "problem_drag = Ballistic3D({\n",
    "    \"CD\": 1.12,\n",
    "    \"A\": 0.007854,\n",
    "    \"m\": 0.022,\n",
    "    \"rho\": 1.225,\n",
    "})\n",
    "\n",
    "p = [0, 0, -0.55]\n",
    "v = [0, 0, 0]\n",
    "w = [0, 0, 0]\n",
    "\n",
    "problem_drag.calculate_trajectory(p, v, w)"
   ]
  },
  {
   "cell_type": "code",
   "execution_count": null,
   "metadata": {},
   "outputs": [],
   "source": []
  }
 ],
 "metadata": {
  "kernelspec": {
   "display_name": "Python 3",
   "language": "python",
   "name": "python3"
  },
  "language_info": {
   "codemirror_mode": {
    "name": "ipython",
    "version": 3
   },
   "file_extension": ".py",
   "mimetype": "text/x-python",
   "name": "python",
   "nbconvert_exporter": "python",
   "pygments_lexer": "ipython3",
   "version": "3.7.6"
  }
 },
 "nbformat": 4,
 "nbformat_minor": 4
}
